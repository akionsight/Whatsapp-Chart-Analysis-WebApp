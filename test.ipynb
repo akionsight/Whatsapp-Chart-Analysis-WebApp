{
 "cells": [
  {
   "cell_type": "code",
   "execution_count": 228,
   "metadata": {},
   "outputs": [],
   "source": [
    "import re\n",
    "import pandas as pd"
   ]
  },
  {
   "cell_type": "code",
   "execution_count": 229,
   "metadata": {},
   "outputs": [],
   "source": [
    "data = open(\"data/WhatsApp Chat with 9 to 10 class 12 physics.txt\", \"r\", encoding=\"utf-8\")"
   ]
  },
  {
   "cell_type": "code",
   "execution_count": 230,
   "metadata": {},
   "outputs": [],
   "source": [
    "data = data.read()"
   ]
  },
  {
   "cell_type": "code",
   "execution_count": 231,
   "metadata": {},
   "outputs": [],
   "source": [
    "pattern = \"\\d{1,2}/\\d{1,2}/\\d{2,4},\\s\\d{1,2}:\\d{2}\\s[AaPp][Mm]\\s-\\s\"\n",
    "pattern1 = \"\\d{1,2}/\\d{1,2}/\\d{2,4},\\s\\d{1,2}:\\d{2}\\s[AaPp][Mm]\""
   ]
  },
  {
   "cell_type": "code",
   "execution_count": 232,
   "metadata": {},
   "outputs": [],
   "source": [
    "messages = re.split(pattern, data)[1:]"
   ]
  },
  {
   "cell_type": "code",
   "execution_count": 233,
   "metadata": {},
   "outputs": [],
   "source": [
    "dates = re.findall(pattern1, data)"
   ]
  },
  {
   "cell_type": "code",
   "execution_count": 234,
   "metadata": {},
   "outputs": [
    {
     "data": {
      "text/html": [
       "<div>\n",
       "<style scoped>\n",
       "    .dataframe tbody tr th:only-of-type {\n",
       "        vertical-align: middle;\n",
       "    }\n",
       "\n",
       "    .dataframe tbody tr th {\n",
       "        vertical-align: top;\n",
       "    }\n",
       "\n",
       "    .dataframe thead th {\n",
       "        text-align: right;\n",
       "    }\n",
       "</style>\n",
       "<table border=\"1\" class=\"dataframe\">\n",
       "  <thead>\n",
       "    <tr style=\"text-align: right;\">\n",
       "      <th></th>\n",
       "      <th>user_messages</th>\n",
       "      <th>date</th>\n",
       "    </tr>\n",
       "  </thead>\n",
       "  <tbody>\n",
       "    <tr>\n",
       "      <th>113</th>\n",
       "      <td>Tauhid Alam Physics Teacher: Kl class nhi ho p...</td>\n",
       "      <td>2021-11-28 23:02:00</td>\n",
       "    </tr>\n",
       "    <tr>\n",
       "      <th>114</th>\n",
       "      <td>Rakesh: Ok sir\\n</td>\n",
       "      <td>2021-11-29 00:19:00</td>\n",
       "    </tr>\n",
       "    <tr>\n",
       "      <th>115</th>\n",
       "      <td>Kaif: Sir AC chapter ka\\n LC OSCILLATIONS topi...</td>\n",
       "      <td>2021-12-01 12:48:00</td>\n",
       "    </tr>\n",
       "    <tr>\n",
       "      <th>116</th>\n",
       "      <td>Sweta (Rakesh): Ha sir aap bole the bhej denge\\n</td>\n",
       "      <td>2021-12-01 12:55:00</td>\n",
       "    </tr>\n",
       "    <tr>\n",
       "      <th>117</th>\n",
       "      <td>Sweta (Rakesh): Ye topic ka notes\\n</td>\n",
       "      <td>2021-12-01 12:55:00</td>\n",
       "    </tr>\n",
       "  </tbody>\n",
       "</table>\n",
       "</div>"
      ],
      "text/plain": [
       "                                         user_messages                date\n",
       "113  Tauhid Alam Physics Teacher: Kl class nhi ho p... 2021-11-28 23:02:00\n",
       "114                                   Rakesh: Ok sir\\n 2021-11-29 00:19:00\n",
       "115  Kaif: Sir AC chapter ka\\n LC OSCILLATIONS topi... 2021-12-01 12:48:00\n",
       "116   Sweta (Rakesh): Ha sir aap bole the bhej denge\\n 2021-12-01 12:55:00\n",
       "117                Sweta (Rakesh): Ye topic ka notes\\n 2021-12-01 12:55:00"
      ]
     },
     "execution_count": 234,
     "metadata": {},
     "output_type": "execute_result"
    }
   ],
   "source": [
    "data = pd.DataFrame({\"user_messages\": messages, \"date\": dates})\n",
    "data[\"date\"] = pd.to_datetime(data[\"date\"], format=\"%d/%m/%Y, %I:%M %p\")\n",
    "data.tail()"
   ]
  }
 ],
 "metadata": {
  "interpreter": {
   "hash": "84696192a1d1faf8fa8756502d8783ffac14dde1df91deb25138929b089b5dee"
  },
  "kernelspec": {
   "display_name": "Python 3.9.6 64-bit ('data-analysis': conda)",
   "language": "python",
   "name": "python3"
  },
  "language_info": {
   "codemirror_mode": {
    "name": "ipython",
    "version": 3
   },
   "file_extension": ".py",
   "mimetype": "text/x-python",
   "name": "python",
   "nbconvert_exporter": "python",
   "pygments_lexer": "ipython3",
   "version": "3.9.6"
  },
  "orig_nbformat": 4
 },
 "nbformat": 4,
 "nbformat_minor": 2
}
